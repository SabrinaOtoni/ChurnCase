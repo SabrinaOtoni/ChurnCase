{
 "cells": [
  {
   "cell_type": "markdown",
   "metadata": {},
   "source": [
    "# Cancelamento de Clientes - Telco (dataset criado pela IBM para demonstração da ferramenta IBM Cognos Analytics)\n",
    "\n",
    "### Contém informações sobre uma empresa fictícia de telecomunicações que forneceu serviços de telefonia residencial e internet para 7043 clientes na Califórnia no 3º trimestre.\n",
    "\n",
    "### Etapa de testes e validação do modelo - Realizado por Sabrina Otoni da Silva - 2024/01"
   ]
  },
  {
   "cell_type": "markdown",
   "metadata": {},
   "source": [
    "### Objetivo: Validar o melhor modelo com os respectivos parâmetros listados na etapa anterior para refinamento das predições e testes. "
   ]
  },
  {
   "cell_type": "code",
   "execution_count": 1,
   "metadata": {},
   "outputs": [],
   "source": [
    "from pathlib import Path\n",
    "\n",
    "import pandas as pd\n",
    "\n",
    "import matplotlib.pyplot as plt\n",
    "\n",
    "from sklearn.pipeline import Pipeline\n",
    "from sklearn.model_selection import StratifiedKFold, cross_val_score, cross_val_predict\n",
    "from sklearn.metrics import precision_recall_curve, confusion_matrix, ConfusionMatrixDisplay\n",
    "from sklearn.preprocessing import StandardScaler\n",
    "from sklearn.utils.class_weight import compute_sample_weight\n",
    "\n",
    "from sklearn.dummy import DummyClassifier\n",
    "from xgboost import XGBClassifier\n",
    "\n",
    "import sys\n",
    "import os\n",
    "\n",
    "automations_dir = os.path.join(os.getcwd(), '../automations')\n",
    "\n",
    "if automations_dir not in sys.path:\n",
    "    sys.path.append(automations_dir)\n",
    "\n",
    "from data_processing import LogTransformer, RBFTransformer, KMeansCluster, DropColumns, ServiceTransformer, CategoricalEncoder\n",
    "\n",
    "import warnings"
   ]
  },
  {
   "cell_type": "code",
   "execution_count": 2,
   "metadata": {},
   "outputs": [],
   "source": [
    "pd.set_option('display.max_columns', None)\n",
    "warnings.filterwarnings('ignore')"
   ]
  },
  {
   "cell_type": "code",
   "execution_count": 3,
   "metadata": {},
   "outputs": [],
   "source": [
    "datapath = Path('../data')\n",
    "csv_path = Path(f'{datapath}/d02_intermediate')"
   ]
  },
  {
   "cell_type": "code",
   "execution_count": 4,
   "metadata": {},
   "outputs": [],
   "source": [
    "X_train = pd.read_csv(f'{csv_path}/X_train.csv')\n",
    "y_train = pd.read_csv(f'{csv_path}/y_train.csv').squeeze()"
   ]
  },
  {
   "cell_type": "code",
   "execution_count": 5,
   "metadata": {},
   "outputs": [],
   "source": [
    "weights_classes = compute_sample_weight(class_weight='balanced', y=y_train)"
   ]
  },
  {
   "cell_type": "markdown",
   "metadata": {},
   "source": [
    "Dando peso as classes, pois o conjunto de dados é desbalanceado."
   ]
  },
  {
   "cell_type": "code",
   "execution_count": 6,
   "metadata": {},
   "outputs": [
    {
     "data": {
      "text/html": [
       "<div>\n",
       "<style scoped>\n",
       "    .dataframe tbody tr th:only-of-type {\n",
       "        vertical-align: middle;\n",
       "    }\n",
       "\n",
       "    .dataframe tbody tr th {\n",
       "        vertical-align: top;\n",
       "    }\n",
       "\n",
       "    .dataframe thead th {\n",
       "        text-align: right;\n",
       "    }\n",
       "</style>\n",
       "<table border=\"1\" class=\"dataframe\">\n",
       "  <thead>\n",
       "    <tr style=\"text-align: right;\">\n",
       "      <th></th>\n",
       "      <th>mean_fit_time</th>\n",
       "      <th>std_fit_time</th>\n",
       "      <th>mean_score_time</th>\n",
       "      <th>std_score_time</th>\n",
       "      <th>param_categorical_encoder__encoder_type</th>\n",
       "      <th>param_kmeans_cluster__active</th>\n",
       "      <th>param_model</th>\n",
       "      <th>param_rbf__active</th>\n",
       "      <th>param_scaler</th>\n",
       "      <th>param_service_transformer__encoder_type</th>\n",
       "      <th>param_transformation</th>\n",
       "      <th>param_model__C</th>\n",
       "      <th>param_model__class_weight</th>\n",
       "      <th>param_model__fit_intercept</th>\n",
       "      <th>param_model__booster</th>\n",
       "      <th>param_model__colsample_bytree</th>\n",
       "      <th>param_model__gamma</th>\n",
       "      <th>param_model__learning_rate</th>\n",
       "      <th>param_model__max_depth</th>\n",
       "      <th>param_model__subsample</th>\n",
       "      <th>params</th>\n",
       "      <th>split0_test_score</th>\n",
       "      <th>split1_test_score</th>\n",
       "      <th>split2_test_score</th>\n",
       "      <th>split3_test_score</th>\n",
       "      <th>split4_test_score</th>\n",
       "      <th>mean_test_score</th>\n",
       "      <th>std_test_score</th>\n",
       "      <th>rank_test_score</th>\n",
       "    </tr>\n",
       "  </thead>\n",
       "  <tbody>\n",
       "    <tr>\n",
       "      <th>0</th>\n",
       "      <td>0.391582</td>\n",
       "      <td>0.056593</td>\n",
       "      <td>0.132938</td>\n",
       "      <td>0.021243</td>\n",
       "      <td>onehot</td>\n",
       "      <td>True</td>\n",
       "      <td>DummyClassifier(strategy='most_frequent')</td>\n",
       "      <td>True</td>\n",
       "      <td>StandardScaler()</td>\n",
       "      <td>onehot</td>\n",
       "      <td>LogTransformer(columns=['Total Charges'],\\n   ...</td>\n",
       "      <td>NaN</td>\n",
       "      <td>NaN</td>\n",
       "      <td>NaN</td>\n",
       "      <td>NaN</td>\n",
       "      <td>NaN</td>\n",
       "      <td>NaN</td>\n",
       "      <td>NaN</td>\n",
       "      <td>NaN</td>\n",
       "      <td>NaN</td>\n",
       "      <td>{'categorical_encoder__encoder_type': 'onehot'...</td>\n",
       "      <td>0.500000</td>\n",
       "      <td>0.500000</td>\n",
       "      <td>0.500000</td>\n",
       "      <td>0.500000</td>\n",
       "      <td>0.500000</td>\n",
       "      <td>0.500000</td>\n",
       "      <td>0.000000</td>\n",
       "      <td>2881</td>\n",
       "    </tr>\n",
       "    <tr>\n",
       "      <th>1</th>\n",
       "      <td>0.163052</td>\n",
       "      <td>0.016638</td>\n",
       "      <td>0.105448</td>\n",
       "      <td>0.012171</td>\n",
       "      <td>onehot</td>\n",
       "      <td>True</td>\n",
       "      <td>LogisticRegression()</td>\n",
       "      <td>True</td>\n",
       "      <td>StandardScaler()</td>\n",
       "      <td>label</td>\n",
       "      <td>LogTransformer(columns=['Total Charges'],\\n   ...</td>\n",
       "      <td>0.1</td>\n",
       "      <td>NaN</td>\n",
       "      <td>True</td>\n",
       "      <td>NaN</td>\n",
       "      <td>NaN</td>\n",
       "      <td>NaN</td>\n",
       "      <td>NaN</td>\n",
       "      <td>NaN</td>\n",
       "      <td>NaN</td>\n",
       "      <td>{'categorical_encoder__encoder_type': 'onehot'...</td>\n",
       "      <td>0.858750</td>\n",
       "      <td>0.862933</td>\n",
       "      <td>0.857959</td>\n",
       "      <td>0.854166</td>\n",
       "      <td>0.871080</td>\n",
       "      <td>0.860978</td>\n",
       "      <td>0.005768</td>\n",
       "      <td>267</td>\n",
       "    </tr>\n",
       "    <tr>\n",
       "      <th>2</th>\n",
       "      <td>0.181935</td>\n",
       "      <td>0.037978</td>\n",
       "      <td>0.082483</td>\n",
       "      <td>0.025461</td>\n",
       "      <td>label</td>\n",
       "      <td>True</td>\n",
       "      <td>XGBClassifier(base_score=None, booster='gbtree...</td>\n",
       "      <td>False</td>\n",
       "      <td>StandardScaler()</td>\n",
       "      <td>label</td>\n",
       "      <td>LogTransformer(columns=['Total Charges'],\\n   ...</td>\n",
       "      <td>NaN</td>\n",
       "      <td>NaN</td>\n",
       "      <td>NaN</td>\n",
       "      <td>gbtree</td>\n",
       "      <td>0.6</td>\n",
       "      <td>0.01</td>\n",
       "      <td>0.1</td>\n",
       "      <td>3.0</td>\n",
       "      <td>0.8</td>\n",
       "      <td>{'categorical_encoder__encoder_type': 'label',...</td>\n",
       "      <td>0.859884</td>\n",
       "      <td>0.866093</td>\n",
       "      <td>0.861707</td>\n",
       "      <td>0.858520</td>\n",
       "      <td>0.871199</td>\n",
       "      <td>0.863481</td>\n",
       "      <td>0.004628</td>\n",
       "      <td>1</td>\n",
       "    </tr>\n",
       "  </tbody>\n",
       "</table>\n",
       "</div>"
      ],
      "text/plain": [
       "   mean_fit_time  std_fit_time  mean_score_time  std_score_time  \\\n",
       "0       0.391582      0.056593         0.132938        0.021243   \n",
       "1       0.163052      0.016638         0.105448        0.012171   \n",
       "2       0.181935      0.037978         0.082483        0.025461   \n",
       "\n",
       "  param_categorical_encoder__encoder_type  param_kmeans_cluster__active  \\\n",
       "0                                  onehot                          True   \n",
       "1                                  onehot                          True   \n",
       "2                                   label                          True   \n",
       "\n",
       "                                         param_model  param_rbf__active  \\\n",
       "0          DummyClassifier(strategy='most_frequent')               True   \n",
       "1                               LogisticRegression()               True   \n",
       "2  XGBClassifier(base_score=None, booster='gbtree...              False   \n",
       "\n",
       "       param_scaler param_service_transformer__encoder_type  \\\n",
       "0  StandardScaler()                                  onehot   \n",
       "1  StandardScaler()                                   label   \n",
       "2  StandardScaler()                                   label   \n",
       "\n",
       "                                param_transformation  param_model__C  \\\n",
       "0  LogTransformer(columns=['Total Charges'],\\n   ...             NaN   \n",
       "1  LogTransformer(columns=['Total Charges'],\\n   ...             0.1   \n",
       "2  LogTransformer(columns=['Total Charges'],\\n   ...             NaN   \n",
       "\n",
       "   param_model__class_weight param_model__fit_intercept param_model__booster  \\\n",
       "0                        NaN                        NaN                  NaN   \n",
       "1                        NaN                       True                  NaN   \n",
       "2                        NaN                        NaN               gbtree   \n",
       "\n",
       "   param_model__colsample_bytree  param_model__gamma  \\\n",
       "0                            NaN                 NaN   \n",
       "1                            NaN                 NaN   \n",
       "2                            0.6                0.01   \n",
       "\n",
       "   param_model__learning_rate  param_model__max_depth  param_model__subsample  \\\n",
       "0                         NaN                     NaN                     NaN   \n",
       "1                         NaN                     NaN                     NaN   \n",
       "2                         0.1                     3.0                     0.8   \n",
       "\n",
       "                                              params  split0_test_score  \\\n",
       "0  {'categorical_encoder__encoder_type': 'onehot'...           0.500000   \n",
       "1  {'categorical_encoder__encoder_type': 'onehot'...           0.858750   \n",
       "2  {'categorical_encoder__encoder_type': 'label',...           0.859884   \n",
       "\n",
       "   split1_test_score  split2_test_score  split3_test_score  split4_test_score  \\\n",
       "0           0.500000           0.500000           0.500000           0.500000   \n",
       "1           0.862933           0.857959           0.854166           0.871080   \n",
       "2           0.866093           0.861707           0.858520           0.871199   \n",
       "\n",
       "   mean_test_score  std_test_score  rank_test_score  \n",
       "0         0.500000        0.000000             2881  \n",
       "1         0.860978        0.005768              267  \n",
       "2         0.863481        0.004628                1  "
      ]
     },
     "execution_count": 6,
     "metadata": {},
     "output_type": "execute_result"
    }
   ],
   "source": [
    "models_info = pd.read_csv(f'{datapath}/d04_models/score_models.csv')\n",
    "models_info"
   ]
  },
  {
   "cell_type": "code",
   "execution_count": 7,
   "metadata": {},
   "outputs": [
    {
     "data": {
      "text/html": [
       "<div>\n",
       "<style scoped>\n",
       "    .dataframe tbody tr th:only-of-type {\n",
       "        vertical-align: middle;\n",
       "    }\n",
       "\n",
       "    .dataframe tbody tr th {\n",
       "        vertical-align: top;\n",
       "    }\n",
       "\n",
       "    .dataframe thead th {\n",
       "        text-align: right;\n",
       "    }\n",
       "</style>\n",
       "<table border=\"1\" class=\"dataframe\">\n",
       "  <thead>\n",
       "    <tr style=\"text-align: right;\">\n",
       "      <th></th>\n",
       "      <th>param_model</th>\n",
       "      <th>params</th>\n",
       "    </tr>\n",
       "  </thead>\n",
       "  <tbody>\n",
       "    <tr>\n",
       "      <th>0</th>\n",
       "      <td>DummyClassifier(strategy='most_frequent')</td>\n",
       "      <td>{'categorical_encoder__encoder_type': 'onehot'...</td>\n",
       "    </tr>\n",
       "    <tr>\n",
       "      <th>1</th>\n",
       "      <td>LogisticRegression()</td>\n",
       "      <td>{'categorical_encoder__encoder_type': 'onehot'...</td>\n",
       "    </tr>\n",
       "    <tr>\n",
       "      <th>2</th>\n",
       "      <td>XGBClassifier(base_score=None, booster='gbtree...</td>\n",
       "      <td>{'categorical_encoder__encoder_type': 'label',...</td>\n",
       "    </tr>\n",
       "  </tbody>\n",
       "</table>\n",
       "</div>"
      ],
      "text/plain": [
       "                                         param_model  \\\n",
       "0          DummyClassifier(strategy='most_frequent')   \n",
       "1                               LogisticRegression()   \n",
       "2  XGBClassifier(base_score=None, booster='gbtree...   \n",
       "\n",
       "                                              params  \n",
       "0  {'categorical_encoder__encoder_type': 'onehot'...  \n",
       "1  {'categorical_encoder__encoder_type': 'onehot'...  \n",
       "2  {'categorical_encoder__encoder_type': 'label',...  "
      ]
     },
     "execution_count": 7,
     "metadata": {},
     "output_type": "execute_result"
    }
   ],
   "source": [
    "models_info[['param_model', 'params']]"
   ]
  },
  {
   "cell_type": "code",
   "execution_count": 8,
   "metadata": {},
   "outputs": [
    {
     "data": {
      "text/plain": [
       "\"{'categorical_encoder__encoder_type': 'onehot', 'kmeans_cluster__active': True, 'model': DummyClassifier(strategy='most_frequent'), 'rbf__active': True, 'scaler': StandardScaler(), 'service_transformer__encoder_type': 'onehot', 'transformation': LogTransformer(columns=['Total Charges'],\\n               model_path='../preprocessing/log_transformer_model.pkl')}\""
      ]
     },
     "execution_count": 8,
     "metadata": {},
     "output_type": "execute_result"
    }
   ],
   "source": [
    "models_info['params'][0]"
   ]
  },
  {
   "cell_type": "code",
   "execution_count": 9,
   "metadata": {},
   "outputs": [],
   "source": [
    "pipeline_dummy = Pipeline([\n",
    "    ('kmeans_cluster', KMeansCluster(model_path='../preprocessing/kmeans_model.pkl', columns_cluster=['Latitude', 'Longitude'])),\n",
    "    ('import_drop', DropColumns(drop_columns=[\"City\", \"Latitude\", \"Longitude\", \"ID\"])),\n",
    "    ('service_transformer', ServiceTransformer([\"Multiple Lines\", \"Online Security\", \"Online Backup\", \"Device Protection\", \"Tech Support\",\n",
    "                                                     \"Streaming TV\", \"Streaming Movies\"])),\n",
    "    ('categorical_encoder', CategoricalEncoder(encoder_type='onehot', specified_columns=[\"Gender\", \"Senior Citizen\", \"Partner\", \"Dependents\",\n",
    "                                                                                                    \"Phone Service\", \"Multiple Lines\", \"Internet Service\",\n",
    "                                                                                                    \"Online Security\", \"Online Backup\", \"Device Protection\",\n",
    "                                                                                                    \"Tech Support\", \"Streaming TV\", \"Streaming Movies\", \n",
    "                                                                                                    \"Contract\", \"Paperless Billing\", \"Payment Method\",\n",
    "                                                                                                    \"Cluster\"])),\n",
    "    ('log_transformation', LogTransformer(model_path='../preprocessing/log_transformer_model.pkl', columns=['Total Charges'])),\n",
    "    ('rbf_transformer', RBFTransformer(column='Tenure Months', model_path='../preprocessing/rbf_transformer_model.pkl')),\n",
    "    ('scaler', StandardScaler()),\n",
    "    ('model', DummyClassifier(strategy='most_frequent'))\n",
    "])"
   ]
  },
  {
   "cell_type": "code",
   "execution_count": 10,
   "metadata": {},
   "outputs": [
    {
     "data": {
      "text/plain": [
       "\"{'categorical_encoder__encoder_type': 'label', 'kmeans_cluster__active': True, 'model': XGBClassifier(base_score=None, booster='gbtree', callbacks=None,\\n              colsample_bylevel=None, colsample_bynode=None,\\n              colsample_bytree=0.6, device=None, early_stopping_rounds=None,\\n              enable_categorical=False, eval_metric=None, feature_types=None,\\n              gamma=0.01, grow_policy=None, importance_type=None,\\n              interaction_constraints=None, learning_rate=0.1, max_bin=None,\\n              max_cat_threshold=None, max_cat_to_onehot=None,\\n              max_delta_step=None, max_depth=3, max_leaves=None,\\n              min_child_weight=None, missing=nan, monotone_constraints=None,\\n              multi_strategy=None, n_estimators=None, n_jobs=None,\\n              num_parallel_tree=None, random_state=None, ...), 'model__booster': 'gbtree', 'model__colsample_bytree': 0.6, 'model__gamma': 0.01, 'model__learning_rate': 0.1, 'model__max_depth': 3, 'model__subsample': 0.8, 'rbf__active': False, 'scaler': StandardScaler(), 'service_transformer__encoder_type': 'label', 'transformation': LogTransformer(columns=['Total Charges'],\\n               model_path='../preprocessing/log_transformer_model.pkl')}\""
      ]
     },
     "execution_count": 10,
     "metadata": {},
     "output_type": "execute_result"
    }
   ],
   "source": [
    "models_info['params'][2]"
   ]
  },
  {
   "cell_type": "code",
   "execution_count": 11,
   "metadata": {},
   "outputs": [],
   "source": [
    "pipeline_xgboost = Pipeline([\n",
    "    ('kmeans_cluster', KMeansCluster(model_path='../preprocessing/kmeans_model.pkl', columns_cluster=['Latitude', 'Longitude'])),\n",
    "    ('import_drop', DropColumns(drop_columns=[\"City\", \"Latitude\", \"Longitude\", \"ID\"])),\n",
    "    ('categorical_encoder', CategoricalEncoder(encoder_type='label', specified_columns=[\"Gender\", \"Senior Citizen\", \"Partner\", \"Dependents\",\n",
    "                                                                                                    \"Phone Service\", \"Multiple Lines\", \"Internet Service\",\n",
    "                                                                                                    \"Online Security\", \"Online Backup\", \"Device Protection\",\n",
    "                                                                                                    \"Tech Support\", \"Streaming TV\", \"Streaming Movies\", \n",
    "                                                                                                    \"Contract\", \"Paperless Billing\", \"Payment Method\",\n",
    "                                                                                                    \"Cluster\"])),\n",
    "    ('log_transformation', LogTransformer(model_path='../preprocessing/log_transformer_model.pkl', columns=['Total Charges'])),\n",
    "    # ('scaler', StandardScaler()),\n",
    "    ('model', XGBClassifier(objective='binary:logistic', booster='gbtree', learning_rate=0.1, gamma=0.01, max_depth=3, subsample=0.8, colsample_bytree=0.6, sample_weight=weights_classes))\n",
    "])"
   ]
  },
  {
   "cell_type": "code",
   "execution_count": 12,
   "metadata": {},
   "outputs": [],
   "source": [
    "model_metrics = {}\n",
    "\n",
    "def calculate_metrics(pipeline, X, y, model_name):\n",
    "    \n",
    "    metrics = {\n",
    "        'Precision': cross_val_score(pipeline, X, y, cv=StratifiedKFold(), scoring='precision').mean(),\n",
    "        'Recall': cross_val_score(pipeline, X, y, cv=StratifiedKFold(), scoring='recall').mean(),\n",
    "        'F1 Score': cross_val_score(pipeline, X, y, cv=StratifiedKFold(), scoring='f1').mean(),\n",
    "        'ROC AUC Score': cross_val_score(pipeline, X, y, cv=StratifiedKFold(), scoring='roc_auc').mean()\n",
    "    }\n",
    "    \n",
    "    model_metrics[model_name] = metrics"
   ]
  },
  {
   "cell_type": "code",
   "execution_count": 13,
   "metadata": {},
   "outputs": [],
   "source": [
    "for model_name, pipeline in [('Dummy', pipeline_dummy), ('XGBoost', pipeline_xgboost)]:\n",
    "    calculate_metrics(pipeline, X_train, y_train, model_name)"
   ]
  },
  {
   "cell_type": "code",
   "execution_count": 14,
   "metadata": {},
   "outputs": [
    {
     "data": {
      "text/plain": [
       "{'Dummy': {'Precision': 0.0,\n",
       "  'Recall': 0.0,\n",
       "  'F1 Score': 0.0,\n",
       "  'ROC AUC Score': 0.5},\n",
       " 'XGBoost': {'Precision': 0.6775437907278095,\n",
       "  'Recall': 0.5542774414319557,\n",
       "  'F1 Score': 0.6094662329486134,\n",
       "  'ROC AUC Score': 0.8634806918269178}}"
      ]
     },
     "execution_count": 14,
     "metadata": {},
     "output_type": "execute_result"
    }
   ],
   "source": [
    "model_metrics"
   ]
  },
  {
   "cell_type": "markdown",
   "metadata": {},
   "source": [
    "Verificando o trade-off de precision/recall para definir o threshold das predições do modelo e refinar ainda mais para o modelo pegar melhor as classes positivas mesmo que isso afete a precisão."
   ]
  },
  {
   "cell_type": "code",
   "execution_count": 15,
   "metadata": {},
   "outputs": [],
   "source": [
    "y_probas_dummy = cross_val_predict(pipeline_dummy, X_train, y_train, cv=StratifiedKFold(n_splits=5), method=\"predict_proba\")\n",
    "y_scores_dummy = y_probas_dummy[:, 1]\n",
    "precisions_dummy, recalls_dummy, thresholds_dummy = precision_recall_curve(y_train, y_scores_dummy)"
   ]
  },
  {
   "cell_type": "code",
   "execution_count": 16,
   "metadata": {},
   "outputs": [],
   "source": [
    "y_probas_xgb = cross_val_predict(pipeline_xgboost, X_train, y_train, cv=StratifiedKFold(n_splits=5), method=\"predict_proba\")\n",
    "y_scores_xgb = y_probas_xgb[:, 1]\n",
    "precisions_xgb, recalls_xgb, thresholds_xgb = precision_recall_curve(y_train, y_scores_xgb)"
   ]
  },
  {
   "cell_type": "code",
   "execution_count": 17,
   "metadata": {},
   "outputs": [
    {
     "data": {
      "image/png": "[encoded data removed]",
      "text/plain": [
       "<Figure size 1000x600 with 1 Axes>"
      ]
     },
     "metadata": {},
     "output_type": "display_data"
    }
   ],
   "source": [
    "plt.figure(figsize=(10, 6))\n",
    "plt.plot(recalls_dummy, precisions_dummy, \"--\", linewidth=2, label=\"Dummy\", color='red')\n",
    "plt.plot(recalls_xgb, precisions_xgb, \"b-\", linewidth=2, label=\"XGBoost\", color='blue')\n",
    "\n",
    "for threshold in [0.2, 0.25, 0.4, 0.6, 0.8]:\n",
    "    index = (thresholds_xgb >= threshold).argmax()\n",
    "    plt.plot(recalls_xgb[index], precisions_xgb[index], \"o\", markersize=10)\n",
    "    plt.annotate(f\"Threshold={threshold}\", (recalls_xgb[index], precisions_xgb[index]), textcoords=\"offset points\", xytext=(-5,10), ha='center')\n",
    "\n",
    "plt.xlabel('Recall')\n",
    "plt.ylabel('Precision')\n",
    "plt.title('Precision-Recall Curve')\n",
    "plt.grid(True)\n",
    "plt.show()"
   ]
  },
  {
   "cell_type": "code",
   "execution_count": 18,
   "metadata": {},
   "outputs": [
    {
     "name": "stdout",
     "output_type": "stream",
     "text": [
      "Para o limiar 0.25:\n",
      "Verdadeiros Negativos (TN): 2623\n",
      "Falsos Positivos (FP): 999\n",
      "Falsos Negativos (FN): 213\n",
      "Verdadeiros Positivos (TP): 1095\n",
      "Recall: 0.8371559633027523\n",
      "Precisão: 0.5229226361031518\n"
     ]
    }
   ],
   "source": [
    "limiar = 0.25\n",
    "y_pred_threshold = (y_scores_xgb >= limiar).astype(int)\n",
    "cm = confusion_matrix(y_train, y_pred_threshold)\n",
    "tn, fp, fn, tp = cm.ravel()\n",
    "\n",
    "print(f\"Para o limiar {limiar}:\")\n",
    "print(f\"Verdadeiros Negativos (TN): {tn}\")\n",
    "print(f\"Falsos Positivos (FP): {fp}\")\n",
    "print(f\"Falsos Negativos (FN): {fn}\")\n",
    "print(f\"Verdadeiros Positivos (TP): {tp}\")\n",
    "print(f\"Recall: {tp / (tp + fn)}\")\n",
    "print(f\"Precisão: {tp / (tp + fp)}\")"
   ]
  },
  {
   "cell_type": "code",
   "execution_count": 19,
   "metadata": {},
   "outputs": [
    {
     "data": {
      "image/png": "[encoded data removed]",
      "text/plain": [
       "<Figure size 640x480 with 2 Axes>"
      ]
     },
     "metadata": {},
     "output_type": "display_data"
    }
   ],
   "source": [
    "ConfusionMatrixDisplay.from_predictions(y_train, cross_val_predict(pipeline_xgboost, X_train, y_train, cv=StratifiedKFold(n_splits=5)), normalize='true', values_format='.0%')\n",
    "plt.show()"
   ]
  },
  {
   "cell_type": "code",
   "execution_count": 20,
   "metadata": {},
   "outputs": [
    {
     "data": {
      "image/png": "[encoded data removed]",
      "text/plain": [
       "<Figure size 640x480 with 2 Axes>"
      ]
     },
     "metadata": {},
     "output_type": "display_data"
    }
   ],
   "source": [
    "ConfusionMatrixDisplay.from_predictions(y_train, y_pred_threshold, normalize='true', values_format='.0%')\n",
    "plt.show()"
   ]
  },
  {
   "cell_type": "markdown",
   "metadata": {},
   "source": [
    "Podemos ver que as predições para a classe 1 melhoraram muito mais depois de configurar o threshold dando mais ênfase no recall. Acabamos comprometendo a precisão mas como dito anteriormente, foi acordado que seria melhor ter mais falsos positivos do que falsos negativos dado o case que estamos trabalhando."
   ]
  }
 ],
 "metadata": {
  "kernelspec": {
   "display_name": "base",
   "language": "python",
   "name": "python3"
  },
  "language_info": {
   "codemirror_mode": {
    "name": "ipython",
    "version": 3
   },
   "file_extension": ".py",
   "mimetype": "text/x-python",
   "name": "python",
   "nbconvert_exporter": "python",
   "pygments_lexer": "ipython3",
   "version": "3.11.4"
  }
 },
 "nbformat": 4,
 "nbformat_minor": 2
}
